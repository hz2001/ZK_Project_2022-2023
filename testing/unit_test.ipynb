{
 "cells": [
  {
   "cell_type": "code",
   "execution_count": 7,
   "metadata": {},
   "outputs": [],
   "source": [
    "import sys\n",
    "sys.path.append('C:\\\\Users\\\\Herbert\\\\Documents\\\\BU\\\\ZK_Project\\\\ZK_Project_2022-2023') \n",
    "from dfa_counter_V2 import counter_substring_search as cdb\n"
   ]
  },
  {
   "cell_type": "code",
   "execution_count": 8,
   "metadata": {},
   "outputs": [
    {
     "data": {
      "text/plain": [
       "{423132159, 971933143, 1392842200, 1822522148, 1860498228}"
      ]
     },
     "execution_count": 8,
     "metadata": {},
     "output_type": "execute_result"
    }
   ],
   "source": [
    "stringlist = [\"import numpy\", \"avoid child abuse\"]\n",
    "\n",
    "cdb.toNumberSet(stringlist)"
   ]
  },
  {
   "cell_type": "code",
   "execution_count": 5,
   "metadata": {},
   "outputs": [
    {
     "name": "stdout",
     "output_type": "stream",
     "text": [
      "stringlist:  ['1822522148 971933143', '423132159 1860498228 1392842200']\n",
      "DFA: {((0, 0), 423132159): (0, 1), ((0, 1), 423132159): (0, 1), ((0, 1), 1822522148): (1, 0), ((0, 1), 1860498228): (0, 2), ((1, 0), 423132159): (0, 1), ((1, 0), 1822522148): (1, 0), ((1, 0), 971933143): (0, 0), ((0, 2), 423132159): (0, 1), ((0, 2), 1392842200): (0, 0), ((0, 2), 1822522148): (1, 0), ((0, 0), 1822522148): (1, 0)}, counterDict: {((0, 0), 423132159): [0, 0], ((0, 1), 423132159): [0, 0], ((0, 1), 1822522148): [0, 0], ((0, 1), 1860498228): [0, 0], ((1, 0), 423132159): [0, 0], ((1, 0), 1822522148): [0, 0], ((1, 0), 971933143): [1, 0], ((0, 2), 423132159): [0, 0], ((0, 2), 1392842200): [0, 1], ((0, 2), 1822522148): [0, 0], ((0, 0), 1822522148): [0, 0]}\n"
     ]
    },
    {
     "data": {
      "text/plain": [
       "{((0, 0), 423132159): (0, 1),\n",
       " ((0, 1), 423132159): (0, 1),\n",
       " ((0, 1), 1822522148): (1, 0),\n",
       " ((0, 1), 1860498228): (0, 2),\n",
       " ((1, 0), 423132159): (0, 1),\n",
       " ((1, 0), 1822522148): (1, 0),\n",
       " ((1, 0), 971933143): (0, 0),\n",
       " ((0, 2), 423132159): (0, 1),\n",
       " ((0, 2), 1392842200): (0, 0),\n",
       " ((0, 2), 1822522148): (1, 0),\n",
       " ((0, 0), 1822522148): (1, 0)}"
      ]
     },
     "execution_count": 5,
     "metadata": {},
     "output_type": "execute_result"
    }
   ],
   "source": [
    "import sys\n",
    "sys.path.append('C:\\\\Users\\\\Herbert\\\\Documents\\\\BU\\\\ZK_Project\\\\ZK_Project_2022-2023') \n",
    "from dfa_counter_V2 import *\n",
    "stringlist = [\"import numpy\", \"avoid child abuse\"]\n",
    "\n",
    "# cdb.toNumberStringList(stringlist)\n",
    "dfa_from_string(stringlist)\n"
   ]
  },
  {
   "cell_type": "code",
   "execution_count": 8,
   "metadata": {},
   "outputs": [
    {
     "data": {
      "text/plain": [
       "({((0, 0), 'avoid'): (0, 1),\n",
       "  ((0, 0), 'import'): (1, 0),\n",
       "  ((0, 1), 'child'): (0, 2),\n",
       "  ((0, 1), 'avoid'): (0, 1),\n",
       "  ((0, 1), 'import'): (1, 0),\n",
       "  ((1, 0), 'avoid'): (0, 1),\n",
       "  ((1, 0), 'import'): (1, 0),\n",
       "  ((1, 0), 'numpy'): (0, 0),\n",
       "  ((0, 2), 'abuse'): (0, 0),\n",
       "  ((0, 2), 'avoid'): (0, 1),\n",
       "  ((0, 2), 'import'): (1, 0)},\n",
       " {((0, 0), 'avoid'): [0, 0],\n",
       "  ((0, 0), 'import'): [0, 0],\n",
       "  ((0, 1), 'child'): [0, 0],\n",
       "  ((0, 1), 'avoid'): [0, 0],\n",
       "  ((0, 1), 'import'): [0, 0],\n",
       "  ((1, 0), 'avoid'): [0, 0],\n",
       "  ((1, 0), 'import'): [0, 0],\n",
       "  ((1, 0), 'numpy'): [1, 0],\n",
       "  ((0, 2), 'abuse'): [0, 1],\n",
       "  ((0, 2), 'avoid'): [0, 0],\n",
       "  ((0, 2), 'import'): [0, 0]})"
      ]
     },
     "execution_count": 8,
     "metadata": {},
     "output_type": "execute_result"
    }
   ],
   "source": [
    "(full_dfa, counterDict) = dfa_from_string_full(stringlist)\n",
    "eliminateRedundency(full_dfa, counterDict, stringlist)\n"
   ]
  },
  {
   "cell_type": "code",
   "execution_count": 12,
   "metadata": {},
   "outputs": [
    {
     "data": {
      "text/plain": [
       "{((0, 0), 1822522148): [0, 0],\n",
       " ((0, 0), 423132159): [0, 0],\n",
       " ((1, 0), 1822522148): [0, 0],\n",
       " ((1, 0), 423132159): [0, 0],\n",
       " ((1, 0), 971933143): [1, 0],\n",
       " ((0, 1), 1860498228): [0, 0],\n",
       " ((0, 1), 1822522148): [0, 0],\n",
       " ((0, 1), 423132159): [0, 0],\n",
       " ((0, 2), 1822522148): [0, 0],\n",
       " ((0, 2), 423132159): [0, 0],\n",
       " ((0, 2), 1392842200): [0, 1]}"
      ]
     },
     "execution_count": 12,
     "metadata": {},
     "output_type": "execute_result"
    }
   ],
   "source": [
    "counterDict"
   ]
  },
  {
   "cell_type": "code",
   "execution_count": 12,
   "metadata": {},
   "outputs": [
    {
     "name": "stdout",
     "output_type": "stream",
     "text": [
      "[0, 0, 1]\n",
      "[1, 0, 0]\n",
      "[0, 1, 0]\n"
     ]
    }
   ],
   "source": [
    "from miniwizpl import *\n",
    "dic= {((0, 0, 1), 1392842200): [0, 0, 1],\n",
    " ((1, 1, 0), 971933143): [1, 0, 0],\n",
    " ((1, 1, 0), 602844001): [0, 1, 0]}\n",
    "\n",
    "length = len(dic[((0, 0, 1), 1392842200)])\n",
    "secret_counterDict = {}\n",
    "for key, val in dic.items():\n",
    "    print(val)\n",
    "    secret_counterDict[key] = SecretIndexList(val)\n",
    "counterList = SecretIndexList([1,1,1])\n",
    "# counterList = [SecretIndexList]\n",
    "\n",
    "for i in range(length):\n",
    "    counterList[i] += secret_counterDict[((0, 0, 1), 1392842200)][i]\n"
   ]
  },
  {
   "attachments": {},
   "cell_type": "markdown",
   "metadata": {},
   "source": [
    "## Test for dfa original V1"
   ]
  },
  {
   "cell_type": "code",
   "execution_count": 3,
   "metadata": {},
   "outputs": [
    {
     "data": {
      "text/plain": [
       "{((0, 0), 423132159): (0, 1),\n",
       " ((0, 0), 1822522148): (1, 0),\n",
       " ((0, 1), 1860498228): (0, 2),\n",
       " ((0, 1), 1392842200): (0, 0),\n",
       " ((0, 1), 423132159): (0, 0),\n",
       " ((0, 1), 1822522148): (1, 0),\n",
       " ((0, 1), 971933143): (0, 0),\n",
       " ((1, 0), 1860498228): (0, 0),\n",
       " ((1, 0), 1392842200): (0, 0),\n",
       " ((1, 0), 423132159): (0, 1),\n",
       " ((1, 0), 1822522148): (0, 0),\n",
       " ((1, 0), 971933143): ((255, 255), 0),\n",
       " ((0, 2), 1860498228): (0, 0),\n",
       " ((0, 2), 1392842200): (0, (255, 255)),\n",
       " ((0, 2), 423132159): (0, 0),\n",
       " ((0, 2), 1822522148): (1, 0),\n",
       " ((0, 2), 971933143): (0, 0),\n",
       " (((255, 255), 0), 423132159): ((255, 255), 1),\n",
       " ((0, (255, 255)), 1822522148): (1, (255, 255)),\n",
       " (((255, 255), 1), 1860498228): ((255, 255), 2),\n",
       " (((255, 255), 1), 1392842200): ((255, 255), 0),\n",
       " (((255, 255), 1), 423132159): ((255, 255), 0),\n",
       " (((255, 255), 1), 1822522148): ((255, 255), 0),\n",
       " (((255, 255), 1), 971933143): ((255, 255), 0),\n",
       " ((1, (255, 255)), 1860498228): (0, (255, 255)),\n",
       " ((1, (255, 255)), 1392842200): (0, (255, 255)),\n",
       " ((1, (255, 255)), 423132159): (0, (255, 255)),\n",
       " ((1, (255, 255)), 1822522148): (0, (255, 255)),\n",
       " ((1, (255, 255)), 971933143): ((255, 255), (255, 255)),\n",
       " (((255, 255), 2), 1860498228): ((255, 255), 0),\n",
       " (((255, 255), 2), 1392842200): ((255, 255), (255, 255)),\n",
       " (((255, 255), 2), 423132159): ((255, 255), 0),\n",
       " (((255, 255), 2), 1822522148): ((255, 255), 0),\n",
       " (((255, 255), 2), 971933143): ((255, 255), 0)}"
      ]
     },
     "execution_count": 3,
     "metadata": {},
     "output_type": "execute_result"
    }
   ],
   "source": [
    "import sys\n",
    "sys.path.append('C:\\\\Users\\\\Herbert\\\\Documents\\\\BU\\\\ZK_Project\\\\ZK_Project_2022-2023') \n",
    "\n",
    "from dfa_original_V1.sls_debug import *\n",
    "\n",
    "stringlist = [\"import numpy\", \"avoid child abuse\"]\n",
    "accept_state  = tuple([255] * len(stringlist))\n",
    "dfa_from_string(stringlist, accept_state= accept_state)"
   ]
  }
 ],
 "metadata": {
  "kernelspec": {
   "display_name": "Python 3",
   "language": "python",
   "name": "python3"
  },
  "language_info": {
   "codemirror_mode": {
    "name": "ipython",
    "version": 3
   },
   "file_extension": ".py",
   "mimetype": "text/x-python",
   "name": "python",
   "nbconvert_exporter": "python",
   "pygments_lexer": "ipython3",
   "version": "3.10.4"
  },
  "orig_nbformat": 4
 },
 "nbformat": 4,
 "nbformat_minor": 2
}
