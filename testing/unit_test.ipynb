{
 "cells": [
  {
   "cell_type": "code",
   "execution_count": 1,
   "metadata": {},
   "outputs": [],
   "source": [
    "import sys\n",
    "sys.path.append('C:\\\\Users\\\\Herbert\\\\Documents\\\\BU\\\\ZK_Project\\\\ZK_Project_2022-2023') \n",
    "from dfa_counter_V2 import counter_dfa_builder as cdb\n"
   ]
  },
  {
   "cell_type": "code",
   "execution_count": 19,
   "metadata": {},
   "outputs": [],
   "source": [
    "# def toWordSet(stringlist: list) -> set:\n",
    "#     \"\"\" Helper function to convert the given stringlist to a set of words\"\"\"\n",
    "#     return set(' '.join(stringlist).split())\n",
    "\n",
    "# def toNumberSet(stringlist: list) -> set:\n",
    "#     wordset = toWordSet(stringlist)\n",
    "#     print(wordset)\n",
    "#     numberList = set()\n",
    "#     for i in wordset:\n",
    "#         numberList.add(dfa_counter_V2.word_to_integer(i))\n",
    "#     return numberList"
   ]
  },
  {
   "cell_type": "code",
   "execution_count": 2,
   "metadata": {},
   "outputs": [
    {
     "name": "stdout",
     "output_type": "stream",
     "text": [
      "{'numpy', 'import', 'socket', 'child', 'abuse'}\n"
     ]
    },
    {
     "data": {
      "text/plain": [
       "{602844001, 971933143, 1392842200, 1822522148, 1860498228}"
      ]
     },
     "execution_count": 2,
     "metadata": {},
     "output_type": "execute_result"
    }
   ],
   "source": [
    "stringlist = [\"import numpy\", \"import socket\", \"child abuse\"]\n",
    "\n",
    "cdb.toNumberSet(stringlist)"
   ]
  },
  {
   "cell_type": "code",
   "execution_count": null,
   "metadata": {},
   "outputs": [],
   "source": []
  }
 ],
 "metadata": {
  "kernelspec": {
   "display_name": "Python 3",
   "language": "python",
   "name": "python3"
  },
  "language_info": {
   "codemirror_mode": {
    "name": "ipython",
    "version": 3
   },
   "file_extension": ".py",
   "mimetype": "text/x-python",
   "name": "python",
   "nbconvert_exporter": "python",
   "pygments_lexer": "ipython3",
   "version": "3.10.4"
  },
  "orig_nbformat": 4
 },
 "nbformat": 4,
 "nbformat_minor": 2
}
