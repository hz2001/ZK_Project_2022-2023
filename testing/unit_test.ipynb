{
 "cells": [
  {
   "cell_type": "code",
   "execution_count": 4,
   "metadata": {},
   "outputs": [],
   "source": [
    "import sys\n",
    "sys.path.append('C:\\\\Users\\\\Herbert\\\\Documents\\\\BU\\\\ZK_Project\\\\ZK_Project_2022-2023') \n",
    "from dfa_counter_V2 import counter_dfa_builder as cdb\n"
   ]
  },
  {
   "cell_type": "code",
   "execution_count": 2,
   "metadata": {},
   "outputs": [
    {
     "data": {
      "text/plain": [
       "{602844001, 971933143, 1392842200, 1822522148, 1860498228}"
      ]
     },
     "execution_count": 2,
     "metadata": {},
     "output_type": "execute_result"
    }
   ],
   "source": [
    "stringlist = [\"import numpy\", \"import socket\", \"child abuse\"]\n",
    "\n",
    "cdb.toNumberSet(stringlist)"
   ]
  },
  {
   "cell_type": "code",
   "execution_count": 1,
   "metadata": {},
   "outputs": [
    {
     "name": "stdout",
     "output_type": "stream",
     "text": [
      "DFA: {((0, 0, 0), '1860498228'): (0, 0, 1), ((0, 0, 0), '1822522148'): (1, 1, 0), ((0, 0, 1), '1860498228'): (0, 0, 1), ((0, 0, 1), '1822522148'): (1, 1, 0), ((1, 1, 0), '1860498228'): (0, 0, 1), ((1, 1, 0), '1822522148'): (1, 1, 0)}, counterDict: {((0, 0, 0), '971933143'): [0, 0, 0], ((0, 0, 0), '1860498228'): [0, 0, 0], ((0, 0, 0), '602844001'): [0, 0, 0], ((0, 0, 0), '1392842200'): [0, 0, 0], ((0, 0, 0), '1822522148'): [0, 0, 0], ((0, 0, 1), '971933143'): [0, 0, 0], ((0, 0, 1), '1860498228'): [0, 0, 0], ((0, 0, 1), '602844001'): [0, 0, 0], ((0, 0, 1), '1392842200'): [0, 0, 1], ((0, 0, 1), '1822522148'): [0, 0, 0], ((1, 1, 0), '971933143'): [1, 0, 0], ((1, 1, 0), '1860498228'): [0, 0, 0], ((1, 1, 0), '602844001'): [0, 1, 0], ((1, 1, 0), '1392842200'): [0, 0, 0], ((1, 1, 0), '1822522148'): [0, 0, 0]}\n",
      "!!! assigning counterDict: ({((0, 0, 1), 1392842200): [0, 0, 1], ((1, 1, 0), 971933143): [1, 0, 0], ((1, 1, 0), 602844001): [0, 1, 0]}, 1864736913600), counterList: ([0, 0, 0], 1865400662848)\n"
     ]
    },
    {
     "data": {
      "text/plain": [
       "{((0, 0, 0), 1860498228): (0, 0, 1),\n",
       " ((0, 0, 0), 1822522148): (1, 1, 0),\n",
       " ((0, 0, 1), 1860498228): (0, 0, 1),\n",
       " ((0, 0, 1), 1822522148): (1, 1, 0),\n",
       " ((1, 1, 0), 1860498228): (0, 0, 1),\n",
       " ((1, 1, 0), 1822522148): (1, 1, 0)}"
      ]
     },
     "execution_count": 1,
     "metadata": {},
     "output_type": "execute_result"
    }
   ],
   "source": [
    "import sys\n",
    "sys.path.append('C:\\\\Users\\\\Herbert\\\\Documents\\\\BU\\\\ZK_Project\\\\ZK_Project_2022-2023') \n",
    "from dfa_counter_V2 import counter_substring_search as cdb\n",
    "\n",
    "stringlist = [\"import numpy\", \"import socket\", \"child abuse\"]\n",
    "\n",
    "# cdb.toNumberStringList(stringlist)\n",
    "\n",
    "cdb.dfa_from_string(stringlist)\n"
   ]
  },
  {
   "cell_type": "code",
   "execution_count": 2,
   "metadata": {},
   "outputs": [
    {
     "data": {
      "text/plain": [
       "{((0, 0, 1), 1392842200): [0, 0, 1],\n",
       " ((1, 1, 0), 971933143): [1, 0, 0],\n",
       " ((1, 1, 0), 602844001): [0, 1, 0]}"
      ]
     },
     "execution_count": 2,
     "metadata": {},
     "output_type": "execute_result"
    }
   ],
   "source": [
    "cdb.counterDict"
   ]
  },
  {
   "cell_type": "code",
   "execution_count": 9,
   "metadata": {},
   "outputs": [
    {
     "name": "stdout",
     "output_type": "stream",
     "text": [
      "[0, 0, 1]\n",
      "[1, 0, 0]\n",
      "[0, 1, 0]\n"
     ]
    },
    {
     "ename": "TypeError",
     "evalue": "'SecretList' object is not subscriptable",
     "output_type": "error",
     "traceback": [
      "\u001b[1;31m---------------------------------------------------------------------------\u001b[0m",
      "\u001b[1;31mTypeError\u001b[0m                                 Traceback (most recent call last)",
      "\u001b[1;32mc:\\Users\\Herbert\\Documents\\BU\\ZK_Project\\ZK_Project_2022-2023\\testing\\unit_test.ipynb Cell 5\u001b[0m in \u001b[0;36m<cell line: 14>\u001b[1;34m()\u001b[0m\n\u001b[0;32m     <a href='vscode-notebook-cell:/c%3A/Users/Herbert/Documents/BU/ZK_Project/ZK_Project_2022-2023/testing/unit_test.ipynb#W4sZmlsZQ%3D%3D?line=10'>11</a>\u001b[0m counterList \u001b[39m=\u001b[39m SecretList([\u001b[39m1\u001b[39m,\u001b[39m1\u001b[39m,\u001b[39m1\u001b[39m])\n\u001b[0;32m     <a href='vscode-notebook-cell:/c%3A/Users/Herbert/Documents/BU/ZK_Project/ZK_Project_2022-2023/testing/unit_test.ipynb#W4sZmlsZQ%3D%3D?line=13'>14</a>\u001b[0m \u001b[39mfor\u001b[39;00m i \u001b[39min\u001b[39;00m \u001b[39mrange\u001b[39m(length):\n\u001b[1;32m---> <a href='vscode-notebook-cell:/c%3A/Users/Herbert/Documents/BU/ZK_Project/ZK_Project_2022-2023/testing/unit_test.ipynb#W4sZmlsZQ%3D%3D?line=14'>15</a>\u001b[0m     t \u001b[39m=\u001b[39m counterList[i] \u001b[39m+\u001b[39m secret_counterDict[((\u001b[39m0\u001b[39m, \u001b[39m0\u001b[39m, \u001b[39m1\u001b[39m), \u001b[39m1392842200\u001b[39m)][i]\n\u001b[0;32m     <a href='vscode-notebook-cell:/c%3A/Users/Herbert/Documents/BU/ZK_Project/ZK_Project_2022-2023/testing/unit_test.ipynb#W4sZmlsZQ%3D%3D?line=15'>16</a>\u001b[0m     \u001b[39mprint\u001b[39m(t)\n",
      "\u001b[1;31mTypeError\u001b[0m: 'SecretList' object is not subscriptable"
     ]
    }
   ],
   "source": [
    "from miniwizpl import *\n",
    "dic= {((0, 0, 1), 1392842200): [0, 0, 1],\n",
    " ((1, 1, 0), 971933143): [1, 0, 0],\n",
    " ((1, 1, 0), 602844001): [0, 1, 0]}\n",
    "\n",
    "length = len(dic[((0, 0, 1), 1392842200)])\n",
    "secret_counterDict = {}\n",
    "for key, val in dic.items():\n",
    "    print(val)\n",
    "    secret_counterDict[key] = SecretIndexList(val)\n",
    "counterList = SecretIndexList([1,1,1])\n",
    "# counterList = [SecretIndexList]\n",
    "\n",
    "for i in range(length):\n",
    "    t = counterList[i] + secret_counterDict[((0, 0, 1), 1392842200)][i]\n",
    "    print(t)"
   ]
  }
 ],
 "metadata": {
  "kernelspec": {
   "display_name": "Python 3",
   "language": "python",
   "name": "python3"
  },
  "language_info": {
   "codemirror_mode": {
    "name": "ipython",
    "version": 3
   },
   "file_extension": ".py",
   "mimetype": "text/x-python",
   "name": "python",
   "nbconvert_exporter": "python",
   "pygments_lexer": "ipython3",
   "version": "3.10.4"
  },
  "orig_nbformat": 4
 },
 "nbformat": 4,
 "nbformat_minor": 2
}
